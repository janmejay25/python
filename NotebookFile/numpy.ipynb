{
 "cells": [
  {
   "cell_type": "code",
   "metadata": {
    "ExecuteTime": {
     "end_time": "2025-02-23T14:20:11.693020Z",
     "start_time": "2025-02-23T14:20:11.477112Z"
    }
   },
   "source": "import numpy as np",
   "outputs": [],
   "execution_count": 1
  },
  {
   "metadata": {
    "ExecuteTime": {
     "end_time": "2025-02-23T14:21:41.421922Z",
     "start_time": "2025-02-23T14:21:41.415129Z"
    }
   },
   "cell_type": "code",
   "source": [
    "arr = np.array([1,2,3,4,5])\n",
    "print(arr)"
   ],
   "outputs": [
    {
     "name": "stdout",
     "output_type": "stream",
     "text": [
      "[1 2 3 4 5]\n"
     ]
    }
   ],
   "execution_count": 4
  },
  {
   "metadata": {
    "ExecuteTime": {
     "end_time": "2025-02-23T14:28:41.070688Z",
     "start_time": "2025-02-23T14:28:41.064560Z"
    }
   },
   "cell_type": "code",
   "source": [
    "arr2 = np.array((7,8,9,1))\n",
    "print(arr2)"
   ],
   "outputs": [
    {
     "name": "stdout",
     "output_type": "stream",
     "text": [
      "[7 8 9 1]\n"
     ]
    }
   ],
   "execution_count": 7
  }
 ],
 "metadata": {
  "language_info": {
   "name": "python"
  },
  "kernelspec": {
   "name": "python3",
   "language": "python",
   "display_name": "Python 3 (ipykernel)"
  }
 },
 "nbformat": 4,
 "nbformat_minor": 2
}
