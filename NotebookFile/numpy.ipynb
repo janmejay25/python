{
 "cells": [
  {
   "cell_type": "code",
   "metadata": {
    "ExecuteTime": {
     "end_time": "2025-02-23T14:20:11.693020Z",
     "start_time": "2025-02-23T14:20:11.477112Z"
    }
   },
   "source": "import numpy as np",
   "outputs": [],
   "execution_count": 1
  },
  {
   "metadata": {
    "ExecuteTime": {
     "end_time": "2025-02-23T14:21:41.421922Z",
     "start_time": "2025-02-23T14:21:41.415129Z"
    }
   },
   "cell_type": "code",
   "source": [
    "arr = np.array([1,2,3,4,5])\n",
    "print(arr)"
   ],
   "outputs": [
    {
     "name": "stdout",
     "output_type": "stream",
     "text": [
      "[1 2 3 4 5]\n"
     ]
    }
   ],
   "execution_count": 4
  },
  {
   "metadata": {
    "ExecuteTime": {
     "end_time": "2025-02-23T14:28:41.070688Z",
     "start_time": "2025-02-23T14:28:41.064560Z"
    }
   },
   "cell_type": "code",
   "source": [
    "arr2 = np.array((7,8,9,1))\n",
    "print(arr2)"
   ],
   "outputs": [
    {
     "name": "stdout",
     "output_type": "stream",
     "text": [
      "[7 8 9 1]\n"
     ]
    }
   ],
   "execution_count": 7
  },
  {
   "metadata": {
    "ExecuteTime": {
     "end_time": "2025-02-23T14:36:43.628221Z",
     "start_time": "2025-02-23T14:36:43.617104Z"
    }
   },
   "cell_type": "code",
   "source": [
    "ZeroDArray = np.array(1)\n",
    "OneDArray = np.array([1,2,3,4,5])\n",
    "twoDArray = np.array([[7,8,9,10],[11,12,13,14]])\n",
    "ThreeDArray = np.array([[[1,2,3,4],[5,6,7,8]],[[9,10,11,12],[13,14,15,16]]])\n",
    "print(\"Zero D Array =\",ZeroDArray)\n",
    "print(\"One D Array =\",OneDArray)\n",
    "print(\"Two D Array =\",twoDArray)\n",
    "print(\"Three D Array =\",ThreeDArray)\n"
   ],
   "outputs": [
    {
     "name": "stdout",
     "output_type": "stream",
     "text": [
      "Zero D Array = 1\n",
      "One D Array = [1 2 3 4 5]\n",
      "Two D Array = [[ 7  8  9 10]\n",
      " [11 12 13 14]]\n",
      "Three D Array = [[[ 1  2  3  4]\n",
      "  [ 5  6  7  8]]\n",
      "\n",
      " [[ 9 10 11 12]\n",
      "  [13 14 15 16]]]\n"
     ]
    }
   ],
   "execution_count": 12
  },
  {
   "metadata": {
    "ExecuteTime": {
     "end_time": "2025-02-23T14:40:42.465823Z",
     "start_time": "2025-02-23T14:40:42.456562Z"
    }
   },
   "cell_type": "code",
   "source": [
    "print(ZeroDArray.ndim)\n",
    "print(OneDArray.ndim)\n",
    "print(twoDArray.ndim)\n",
    "print(ThreeDArray.ndim)"
   ],
   "outputs": [
    {
     "name": "stdout",
     "output_type": "stream",
     "text": [
      "0\n",
      "1\n",
      "2\n",
      "3\n"
     ]
    }
   ],
   "execution_count": 15
  }
 ],
 "metadata": {
  "language_info": {
   "name": "python"
  },
  "kernelspec": {
   "name": "python3",
   "language": "python",
   "display_name": "Python 3 (ipykernel)"
  }
 },
 "nbformat": 4,
 "nbformat_minor": 2
}
